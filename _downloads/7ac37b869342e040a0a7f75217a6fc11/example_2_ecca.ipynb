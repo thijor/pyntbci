{
  "cells": [
    {
      "cell_type": "markdown",
      "metadata": {},
      "source": [
        "\n# eCCA\nThis script shows how to use eCCA from PyntBCI for decoding c-VEP trials. The eCCA method uses a template matching\nclassifier where templates are estimated using averaging and canonical correlation analysis (CCA).\n\nThe data used in this script come from Thielen et al. (2021), see references [1]_ and [2]_.\n\n## References\n.. [1] Thielen et al. (2021) From full calibration to zero training for a code-modulated visual evoked potentials brain\n       computer interface. DOI: https://doi.org/10.34973/9txv-z787\n.. [2] Thielen, J., Marsman, P., Farquhar, J., & Desain, P. (2021). From full calibration to zero training for a\n       code-modulated visual evoked potentials for brain\u2013computer interface. Journal of Neural Engineering, 18(5),\n       056007. DOI: https://doi.org/10.1088/1741-2552/abecef\n"
      ]
    },
    {
      "cell_type": "code",
      "execution_count": null,
      "metadata": {
        "collapsed": false
      },
      "outputs": [],
      "source": [
        "import os\n\nimport matplotlib.pyplot as plt\nimport numpy as np\nimport seaborn\n\nimport pyntbci\n\nseaborn.set_context(\"paper\", font_scale=1.5)"
      ]
    },
    {
      "cell_type": "markdown",
      "metadata": {},
      "source": [
        "## Set the data path\nThe cell below specifies where the dataset has been downloaded to. Please, make sure it is set correctly according to\nthe specification of your device. If none of the folder structures in the dataset were changed, the cells below should\nwork just as fine.\n\n"
      ]
    },
    {
      "cell_type": "code",
      "execution_count": null,
      "metadata": {
        "collapsed": false
      },
      "outputs": [],
      "source": [
        "path = os.path.join(os.path.dirname(pyntbci.__file__))  # path to the dataset\nsubject = \"sub-01\"  # the subject to analyse"
      ]
    },
    {
      "cell_type": "markdown",
      "metadata": {},
      "source": [
        "## The data\nThe dataset consists of (1) the EEG data X that is a matrix of k trials, c channels, and m samples; (2) the labels y\nthat is a vector of k trials; (3) the pseudo-random noise-codes V that is a matrix of n classes and m samples. Note,\nthe codes are upsampled to match the EEG sampling frequency and contain only one code-cycle.\n\n"
      ]
    },
    {
      "cell_type": "code",
      "execution_count": null,
      "metadata": {
        "collapsed": false
      },
      "outputs": [],
      "source": [
        "# Load data\nfn = os.path.join(path, \"data\", f\"thielen2021_{subject}.npz\")\ntmp = np.load(fn)\nX = tmp[\"X\"]\ny = tmp[\"y\"]\nV = tmp[\"V\"]\nfs = int(tmp[\"fs\"])\nfr = 60\nprint(\"X\", X.shape, \"(trials x channels x samples)\")  # EEG\nprint(\"y\", y.shape, \"(trials)\")  # labels\nprint(\"V\", V.shape, \"(classes, samples)\")  # codes\nprint(\"fs\", fs, \"Hz\")  # sampling frequency\nprint(\"fr\", fr, \"Hz\")  # presentation rate\n\n# Extract data dimensions\nn_trials, n_channels, n_samples = X.shape\nn_classes = V.shape[0]\n\n# Read cap file\ncapfile = os.path.join(path, \"capfiles\", \"thielen8.loc\")\nwith open(capfile, \"r\") as fid:\n    channels = []\n    for line in fid.readlines():\n        channels.append(line.split(\"\\t\")[-1].strip())\nprint(\"Channels:\", \", \".join(channels))\n\n# Visualize EEG data\ni_trial = 0  # the trial to visualize\nplt.figure(figsize=(15, 5))\nplt.plot(np.arange(0, n_samples) / fs, 25e-6 * np.arange(n_channels) + X[i_trial, :, :].T)\nplt.xlim([0, 1])  # limit to 1 second EEG data\nplt.yticks(25e-6 * np.arange(n_channels), channels)\nplt.xlabel(\"time [s]\")\nplt.ylabel(\"channel\")\nplt.title(f\"Single-trial multi-channel EEG time-series (trial {i_trial})\")\nplt.tight_layout()\n\n# Visualize labels\nplt.figure(figsize=(15, 3))\nhist = np.histogram(y, bins=np.arange(n_classes + 1))[0]\nplt.bar(np.arange(n_classes), hist)\nplt.xticks(np.arange(n_classes))\nplt.xlabel(\"label\")\nplt.ylabel(\"count\")\nplt.title(\"Single-trial labels\")\nplt.tight_layout()\n\n# Visualize stimuli\nfig, ax = plt.subplots(1, 1, figsize=(15, 8))\npyntbci.plotting.stimplot(V, fs=fs, ax=ax, plotfs=False)\nfig.tight_layout()\nax.set_title(\"Stimulus time-series\")"
      ]
    },
    {
      "cell_type": "markdown",
      "metadata": {},
      "source": [
        "## ERP CCA\nThe full ERP CCA (eCCA) pipeline is implemented as a scikit-learn compatible class in PyntBCI in\n`pyntbci.classifiers.eCCA`. All it needs are the lags if a circular shifted code is used (not used here) in `lags`,\nthe sampling frequency `fs`, and the duration of one period of a code as `cycle_size`.\n\nWhen calling `eCCA.fit(X, y)` with training data `X` and labels `y`, the template responses are learned as well as the\nspatial filters `eCCA.w_`.\n\n"
      ]
    },
    {
      "cell_type": "code",
      "execution_count": null,
      "metadata": {
        "collapsed": false
      },
      "outputs": [],
      "source": [
        "# Perform CCA\ncycle_size = 2.1  # 2.1 second code cycle length\necca = pyntbci.classifiers.eCCA(lags=None, fs=fs, cycle_size=cycle_size)\necca.fit(X, y)\nprint(\"w: shape:\", ecca.w_.shape, \", type:\", ecca.w_.dtype)\n\n# Plot CCA filters\nfig, ax = plt.subplots(figsize=(5, 3))\npyntbci.plotting.topoplot(ecca.w_, capfile, ax=ax)\nax.set_title(\"Spatial filter\")"
      ]
    },
    {
      "cell_type": "markdown",
      "metadata": {},
      "source": [
        "## Cross-validation\nTo perform decoding, one can call `eCCA.fit(X_trn, y_trn)` on training data `X_trn` and labels `y_trn` and\n`eCCA.predict(X_tst)` on testing data `X_tst`. In this section, a chronological cross-validation is set up to evaluate\nthe performance of eCCA.\n\n"
      ]
    },
    {
      "cell_type": "code",
      "execution_count": null,
      "metadata": {
        "collapsed": false
      },
      "outputs": [],
      "source": [
        "trialtime = 4.2  # limit trials to a certain duration in seconds\nintertrialtime = 1.0  # ITI in seconds for computing ITR\nn_samples = int(trialtime * fs)\n\n# Chronological cross-validation\nn_folds = 5\nfolds = np.repeat(np.arange(n_folds), int(n_trials / n_folds))\n\n# Loop folds\naccuracy = np.zeros(n_folds)\nfor i_fold in range(n_folds):\n    # Split data to train and valid set\n    X_trn, y_trn = X[folds != i_fold, :, :n_samples], y[folds != i_fold]\n    X_tst, y_tst = X[folds == i_fold, :, :n_samples], y[folds == i_fold]\n\n    # Train template-matching classifier\n    ecca = pyntbci.classifiers.eCCA(lags=None, fs=fs, cycle_size=2.1)\n    ecca.fit(X_trn, y_trn)\n\n    # Apply template-matching classifier\n    yh_tst = ecca.predict(X_tst)\n\n    # Compute accuracy\n    accuracy[i_fold] = np.mean(yh_tst == y_tst)\n\n# Compute ITR\nitr = pyntbci.utilities.itr(n_classes, accuracy, trialtime + intertrialtime)\n\n# Plot accuracy (over folds)\nplt.figure(figsize=(15, 3))\nplt.bar(np.arange(n_folds), accuracy)\nplt.axhline(accuracy.mean(), linestyle='--', alpha=0.5, label=\"average\")\nplt.axhline(1 / n_classes, color=\"k\", linestyle=\"--\", alpha=0.5, label=\"chance\")\nplt.xlabel(\"(test) fold\")\nplt.ylabel(\"accuracy\")\nplt.legend()\nplt.title(\"Chronological cross-validation\")\nplt.tight_layout()\n\n# Print accuracy (average and standard deviation over folds)\nprint(f\"Accuracy: avg={accuracy.mean():.2f} with std={accuracy.std():.2f}\")\nprint(f\"ITR: avg={itr.mean():.1f} with std={itr.std():.2f}\")"
      ]
    },
    {
      "cell_type": "markdown",
      "metadata": {},
      "source": [
        "## Learning curve\nIn this section, we will apply the decoder to varying number of training trials, to estimate a so-called learning\ncurve. With this information, one could decide how much training data is required, or compare algorithms on how much\ntraining data they require to estimate their parameters.\n\n"
      ]
    },
    {
      "cell_type": "code",
      "execution_count": null,
      "metadata": {
        "collapsed": false
      },
      "outputs": [],
      "source": [
        "trialtime = 4.2  # limit trials to a certain duration in seconds\nn_samples = int(trialtime * fs)\n\n# Chronological cross-validation\nn_folds = 5\nfolds = np.repeat(np.arange(n_folds), int(n_trials / n_folds))\n\n# Set learning curve axis\n# Note, eCCA needs at least 1 trial per class if lags=None\ntrain_trials = np.arange(n_classes, 1 + np.sum(folds != 0))\nn_train_trials = train_trials.size\n\n# Loop folds\naccuracy = np.zeros((n_folds, n_train_trials))\nfor i_fold in range(n_folds):\n\n    # Split data to train and test set\n    X_trn, y_trn = X[folds != i_fold, :, :n_samples], y[folds != i_fold]\n    X_tst, y_tst = X[folds == i_fold, :, :n_samples], y[folds == i_fold]\n\n    # Loop train trials\n    for i_trial in range(n_train_trials):\n        # Train classifier\n        ecca = pyntbci.classifiers.eCCA(lags=None, fs=fs, cycle_size=2.1)\n        ecca.fit(X_trn[:train_trials[i_trial], :, :], y_trn[:train_trials[i_trial]])\n\n        # Apply classifier\n        yh_tst = ecca.predict(X_tst)\n\n        # Compute accuracy\n        accuracy[i_fold, i_trial] = np.mean(yh_tst == y_tst)\n\n# Plot results\nplt.figure(figsize=(15, 3))\navg = accuracy.mean(axis=0)\nstd = accuracy.std(axis=0)\nplt.plot(train_trials * trialtime, avg, linestyle='-', marker='o', label=\"eCCA\")\nplt.fill_between(train_trials * trialtime, avg + std, avg - std, alpha=0.2, label=\"_eCCA\")\nplt.axhline(1 / n_classes, color=\"k\", linestyle=\"--\", alpha=0.5, label=\"chance\")\nplt.xlabel(\"learning time [s]\")\nplt.ylabel(\"accuracy\")\nplt.legend()\nplt.title(\"Learning curve\")\nplt.tight_layout()"
      ]
    },
    {
      "cell_type": "markdown",
      "metadata": {},
      "source": [
        "## Decoding curve\nIn this section, we will apply the decoder to varying testing trial lengths, to estimate a so-called decoding curve.\nWith this information, one could decide how much testing data is required, or compare algorithms on how much data they\nneed during testing to classify single-trials.\n\n"
      ]
    },
    {
      "cell_type": "code",
      "execution_count": null,
      "metadata": {
        "collapsed": false
      },
      "outputs": [],
      "source": [
        "trialtime = 4.2  # limit trials to a certain duration in seconds\nintertrialtime = 1.0  # ITI in seconds for computing ITR\nn_samples = int(trialtime * fs)\n\n# Chronological cross-validation\nn_folds = 5\nfolds = np.repeat(np.arange(n_folds), int(n_trials / n_folds))\n\n# Set decoding curve axis\nsegmenttime = 0.1  # step size of the decoding curve in seconds\nsegments = np.arange(segmenttime, trialtime, segmenttime)\nn_segments = segments.size\n\n# Loop folds\naccuracy = np.zeros((n_folds, n_segments))\nfor i_fold in range(n_folds):\n\n    # Split data to train and test set\n    X_trn, y_trn = X[folds != i_fold, :, :n_samples], y[folds != i_fold]\n    X_tst, y_tst = X[folds == i_fold, :, :n_samples], y[folds == i_fold]\n\n    # Setup classifier\n    ecca = pyntbci.classifiers.eCCA(lags=None, fs=fs, cycle_size=2.1)\n\n    # Train classifier\n    ecca.fit(X_trn, y_trn)\n\n    # Loop segments\n    for i_segment in range(n_segments):\n        # Apply classifier\n        yh_tst = ecca.predict(X_tst[:, :, :int(fs * segments[i_segment])])\n\n        # Compute accuracy\n        accuracy[i_fold, i_segment] = np.mean(yh_tst == y_tst)\n\n# Compute ITR\ntime = np.tile(segments[np.newaxis, :], (n_folds, 1))\nitr = pyntbci.utilities.itr(n_classes, accuracy, time + intertrialtime)\n\n# Plot results\nfig, ax = plt.subplots(2, 1, figsize=(15, 5), sharex=True)\navg = accuracy.mean(axis=0)\nstd = accuracy.std(axis=0)\nax[0].plot(segments, avg, linestyle='-', marker='o', label=\"eCCA\")\nax[0].fill_between(segments, avg + std, avg - std, alpha=0.2, label=\"_eCCA\")\nax[0].axhline(1 / n_classes, color=\"k\", linestyle=\"--\", alpha=0.5, label=\"chance\")\navg = itr.mean(axis=0)\nstd = itr.std(axis=0)\nax[1].plot(segments, avg, linestyle='-', marker='o', label=\"eCCA\")\nax[1].fill_between(segments, avg + std, avg - std, alpha=0.2, label=\"_eCCA\")\nax[1].set_xlabel(\"decoding time [s]\")\nax[0].set_ylabel(\"accuracy\")\nax[1].set_ylabel(\"ITR [bits/min]\")\nax[0].legend()\nax[0].set_title(\"Decoding curve\")\nfig.tight_layout()"
      ]
    },
    {
      "cell_type": "markdown",
      "metadata": {},
      "source": [
        "## Analyse multiple participants\n\n"
      ]
    },
    {
      "cell_type": "code",
      "execution_count": null,
      "metadata": {
        "collapsed": false
      },
      "outputs": [],
      "source": [
        "# Set paths\npath = os.path.join(os.path.dirname(pyntbci.__file__))\nn_subjects = 5\nsubjects = [f\"sub-{1 + i:02d}\" for i in range(n_subjects)]\n\n# Set trial duration\ntrialtime = 4.2  # limit trials to a certain duration in seconds\nn_trials = 100  # limit the number of trials in the dataset\n\n# Chronological cross-validation\nn_folds = 5\nfolds = np.repeat(np.arange(n_folds), int(n_trials / n_folds))\n\n# Loop participants\naccuracy = np.zeros((n_subjects, n_folds))\nfor i_subject in range(n_subjects):\n    subject = subjects[i_subject]\n\n    # Load data\n    fn = os.path.join(path, \"data\", f\"thielen2021_{subject}.npz\")\n    tmp = np.load(fn)\n    fs = tmp[\"fs\"]\n    X = tmp[\"X\"][:n_trials, :, :int(trialtime * fs)]\n    y = tmp[\"y\"][:n_trials]\n    V = tmp[\"V\"]\n\n    # Cross-validation\n    for i_fold in range(n_folds):\n        # Split data to train and test set\n        X_trn, y_trn = X[folds != i_fold, :, :], y[folds != i_fold]\n        X_tst, y_tst = X[folds == i_fold, :, :], y[folds == i_fold]\n\n        # Train classifier\n        ecca = pyntbci.classifiers.eCCA(lags=None, fs=fs, cycle_size=2.1)\n        ecca.fit(X_trn, y_trn)\n\n        # Apply classifier\n        yh_tst = ecca.predict(X_tst)\n\n        # Compute accuracy\n        accuracy[i_subject, i_fold] = np.mean(yh_tst == y_tst)\n\n# Add average to accuracies\nsubjects += [\"avg\"]\navg = np.mean(accuracy, axis=0, keepdims=True)\naccuracy = np.concatenate((accuracy, avg), axis=0)\n\n# Plot accuracy\nplt.figure(figsize=(15, 5))\navg = accuracy.mean(axis=1)\nstd = accuracy.std(axis=1)\nplt.bar(np.arange(1 + n_subjects) + 0.3, avg, 0.5, yerr=std, label=\"eCCA\")\nplt.axhline(accuracy.mean(), linestyle=\"--\", alpha=0.5, label=\"average\")\nplt.axhline(1 / n_classes, linestyle=\"--\", color=\"k\", alpha=0.5, label=\"chance\")\nplt.table(cellText=[np.round(avg, 2), np.round(std, 2)], loc='bottom', rowLabels=[\"avg\", \"std\"], colLabels=subjects,\n          cellLoc=\"center\")\nplt.subplots_adjust(left=0.2, bottom=0.2)\nplt.xticks([])\nplt.ylabel(\"accuracy\")\nplt.xlim([-0.25, n_subjects + 0.75])\nplt.legend()\nplt.title(\"Decoding performance full dataset\")\nplt.tight_layout()\n\n# Print accuracy\nprint(f\"Average accuracy: {avg.mean():.2f}\")\n\n# plt.show()"
      ]
    }
  ],
  "metadata": {
    "kernelspec": {
      "display_name": "Python 3",
      "language": "python",
      "name": "python3"
    },
    "language_info": {
      "codemirror_mode": {
        "name": "ipython",
        "version": 3
      },
      "file_extension": ".py",
      "mimetype": "text/x-python",
      "name": "python",
      "nbconvert_exporter": "python",
      "pygments_lexer": "ipython3",
      "version": "3.12.3"
    }
  },
  "nbformat": 4,
  "nbformat_minor": 0
}