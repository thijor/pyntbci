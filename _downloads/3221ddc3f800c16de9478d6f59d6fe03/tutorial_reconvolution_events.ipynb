{
  "cells": [
    {
      "cell_type": "markdown",
      "metadata": {},
      "source": [
        "\n# Reconvolution events\n\nThis tutorial shows the basic building block of the reconvolution approach (see [1]_ and [2]_) that is implemented in\nthe PyntBCI library for analysing code-modulated responses. This tutorial generates an arbitrary code (here an\nm-sequence) and shows different kinds of event definitions.\n\n## References\n.. [1] Thielen, J., van den Broek, P., Farquhar, J., & Desain, P. (2015). Broad-Band visually evoked potentials:\n       re(con)volution in brain-computer interfacing. PLOS ONE, 10(7), e0133797.\n       DOI: https://doi.org/10.1371/journal.pone.0133797\n.. [2] Thielen, J., Marsman, P., Farquhar, J., & Desain, P. (2021). From full calibration to zero training for a\n       code-modulated visual evoked potentials for brain\u2013computer interface. Journal of Neural Engineering, 18(5),\n       056007. DOI: https://doi.org/10.1088/1741-2552/abecef\n"
      ]
    },
    {
      "cell_type": "code",
      "execution_count": null,
      "metadata": {
        "collapsed": false
      },
      "outputs": [],
      "source": [
        "import os\n\nimport matplotlib.pyplot as plt\nimport numpy as np\nimport seaborn\n\nimport pyntbci\n\nseaborn.set_context(\"paper\", font_scale=1.5)"
      ]
    },
    {
      "cell_type": "markdown",
      "metadata": {},
      "source": [
        "## The codes\nPyntBCI contains a `codes` module with several functions that create various well-known noise-codes. Here we generate\nan m-sequence.\n\n"
      ]
    },
    {
      "cell_type": "code",
      "execution_count": null,
      "metadata": {
        "collapsed": false
      },
      "outputs": [],
      "source": [
        "# Generate an m-sequence\nV = pyntbci.codes.make_m_sequence()\nn_classes, n_samples = V.shape\nprint(\"V shape: \", V.shape, \"(codes, samples)\")\n\n# Visualize codes\nfr = 60  # the monitor refresh rate in Hz\nVup = V.repeat(20, axis=1)  # upsample to better visualize the sharp edges\nplt.figure(figsize=(15, 3))\nplt.plot(np.arange(Vup.shape[1]) / (20 * fr), 2 * np.arange(n_classes) + Vup.T)\nfor i in range(1 + int(V.shape[1])):\n    plt.axvline(i / fr, c=\"k\", alpha=0.1)\nplt.yticks(2 * np.arange(n_classes), np.arange(n_classes))\nplt.xlabel(\"time [sec]\")\nplt.ylabel(\"code\")\nplt.title(\"Code time-series\")\nplt.tight_layout()"
      ]
    },
    {
      "cell_type": "markdown",
      "metadata": {},
      "source": [
        "## The event matrix\nIn reconvolution, sequences are decomposed into individual events. Reconvolution then learns a separate evoked\nresponse for each of these events. The event definition can be manually set. An event that is commonly used is the\n`dur` (duration) event, which defines an event for each run-length of ones in a sequence. There are many other\npotential events that can be used, such as `id` (identity), `on`, `off`, `onoff` (on and off), `re` (rising edge),\n`fe` (falling edge), and `refe` (rising and falling edge, contrast). Here, we show what these decompositions look like\nin more detail.\n\n"
      ]
    },
    {
      "cell_type": "code",
      "execution_count": null,
      "metadata": {
        "collapsed": false
      },
      "outputs": [],
      "source": [
        "events = [\"id\", \"dur\", \"on\", \"off\", \"onoff\", \"re\", \"fe\", \"refe\"]  # the event definitions\ni_class = 0  # the class to visualize\n\nfor event in events:\n    print(event)\n\n    # Create event matrix\n    E, events = pyntbci.utilities.event_matrix(V, event=event, onset_event=True)\n    print(\"\\tE shape:\", E.shape, \"(classes x events x samples)\")\n    print(\"\\tEvents:\", \", \".join([str(event) for event in events]))\n\n    # Visualize event time-series\n    fig, ax = plt.subplots(1, 1, figsize=(15, 3))\n    pyntbci.plotting.eventplot(V[i_class, :], E[i_class, :, :], fs=fr, ax=ax, events=events)\n    ax.set_title(f\"Event time-series {event} (code {i_class})\")\n    plt.tight_layout()\n\n# plt.show()"
      ]
    }
  ],
  "metadata": {
    "kernelspec": {
      "display_name": "Python 3",
      "language": "python",
      "name": "python3"
    },
    "language_info": {
      "codemirror_mode": {
        "name": "ipython",
        "version": 3
      },
      "file_extension": ".py",
      "mimetype": "text/x-python",
      "name": "python",
      "nbconvert_exporter": "python",
      "pygments_lexer": "ipython3",
      "version": "3.10.12"
    }
  },
  "nbformat": 4,
  "nbformat_minor": 0
}